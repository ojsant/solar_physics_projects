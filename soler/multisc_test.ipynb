{
 "cells": [
  {
   "cell_type": "code",
   "execution_count": 1,
   "metadata": {},
   "outputs": [
    {
     "data": {
      "application/vnd.jupyter.widget-view+json": {
       "model_id": "4969d4585c3c41a6b1589b4d6fd1ba56",
       "version_major": 2,
       "version_minor": 0
      },
      "text/plain": [
       "HBox(children=(Output(layout=Layout(width='auto')), Output(layout=Layout(width='auto'))))"
      ]
     },
     "metadata": {},
     "output_type": "display_data"
    }
   ],
   "source": [
    "import ipywidgets as w\n",
    "import multiplot as m\n"
   ]
  },
  {
   "cell_type": "code",
   "execution_count": 2,
   "metadata": {},
   "outputs": [
    {
     "data": {
      "application/vnd.jupyter.widget-view+json": {
       "model_id": "223c774ff85c42b68020c3cfd51062ba",
       "version_major": 2,
       "version_minor": 0
      },
      "text/plain": [
       "Dropdown(options=('PSP', 'SolO'), value='PSP')"
      ]
     },
     "metadata": {},
     "output_type": "display_data"
    },
    {
     "data": {
      "application/vnd.jupyter.widget-view+json": {
       "model_id": "b3e93b0211d34e26ba5be0b98dee4d6c",
       "version_major": 2,
       "version_minor": 0
      },
      "text/plain": [
       "Output()"
      ]
     },
     "metadata": {},
     "output_type": "display_data"
    }
   ],
   "source": [
    "drop = w.Dropdown(options=[\"PSP\", \"SolO\"])\n",
    "cb1 = w.Checkbox(description=\"PSP check\")\n",
    "cb2 = w.Checkbox(description=\"SolO check\")\n",
    "out = w.Output()\n",
    "\n",
    "def change_cb(change):\n",
    "    if change.new == \"PSP\":\n",
    "        out.clear_output()\n",
    "        with out:\n",
    "            display(cb1)\n",
    "    if change.new == \"SolO\":\n",
    "        out.clear_output()\n",
    "        with out:\n",
    "            display(cb2)\n",
    "\n",
    "drop.observe(change_cb)\n",
    "\n",
    "display(drop, out)"
   ]
  },
  {
   "cell_type": "code",
   "execution_count": 3,
   "metadata": {},
   "outputs": [
    {
     "name": "stdout",
     "output_type": "stream",
     "text": [
      "{'_common_grid': GridspecLayout(), '_sc_grid': GridspecLayout(), 'out1': Output(), 'out2': Output(), 'spacecraft': Dropdown(index=2, options=('PSP', 'SolO', 'L1 (Wind/SOHO)', 'STEREO'), value='L1 (Wind/SOHO)'), 'startdate': NaiveDatetimePicker(value=None, description='Start date (data):', style=DescriptionStyle(description_width='50px')), 'enddate': NaiveDatetimePicker(value=None, description='End date (data):', style=DescriptionStyle(description_width='50px')), 'legends_inside': Checkbox(value=False, description='Legends inside', indent=False), 'radio_cmap': Dropdown(description='Radio colormap', options=('jet', 'magma', 'Spectral'), value='jet'), 'pos_timestamp': Dropdown(description='Timestamp position', options=('center', 'start', 'original'), value='center'), 'resample': BoundedIntText(value=15, description='Resampling (min):', max=30), 'resample_mag': BoundedIntText(value=5, description='MAG resampling (min):', max=30), 'resample_pol': BoundedIntText(value=1, description='Polarity resampling (min):', max=30), 'radio': Checkbox(value=True, description='Radio', indent=False), 'pad': Checkbox(value=False, description='Pitch angle distribution', disabled=True, indent=False), 'mag': Checkbox(value=True, description='MAG', indent=False), 'mag_angles': Checkbox(value=True, description='MAG angles', indent=False), 'polarity': Checkbox(value=True, description='Polarity', indent=False), 'Vsw': Checkbox(value=True, description='V_sw', indent=False), 'N': Checkbox(value=True, description='N', indent=False), 'T': Checkbox(value=True, description='T', indent=False), 'path': None, 'plot_range': None, 'psp_vars': {'stix': Checkbox(value=True), 'p_dyn': Checkbox(value=True), 'epilo': Dropdown(options=('electrons, protons, both',), value='electrons, protons, both'), 'epihi': Dropdown(options=('electrons, protons, both',), value='electrons, protons, both')}, 'solo_vars': {}, 'l1_vars': {'wind': Dropdown(options=('electrons, protons, both',), value='electrons, protons, both'), 'ephin': Checkbox(value=True), 'erne': Checkbox(value=True)}, 'stereo_vars': {'sc': Dropdown(options=('A', 'B'), value='A'), 'sept_viewing': Dropdown(options=('sun', 'asun', 'north', 'south'), value='sun'), 'sept': Dropdown(options=('electrons, protons, both',), value='electrons, protons, both'), 'het': Dropdown(options=('electrons, protons, both',), value='electrons, protons, both'), 'ch_sept_e': SelectMultiple(options=(0, 1, 2, 3, 4, 5, 6, 7, 8, 9, 10, 11, 12, 13, 14), rows=10, value=()), 'ch_sept_p': SelectMultiple(options=(0, 1, 2, 3, 4, 5, 6, 7, 8, 9, 10, 11, 12, 13, 14, 15, 16, 17, 18, 19, 20, 21, 22, 23, 24, 25, 26, 27, 28, 29), rows=10, value=()), 'ch_het_p': SelectMultiple(options=(0, 1, 2, 3, 4, 5, 6, 7, 8, 9, 10), rows=10, value=()), 'ch_het_e': (0, 1, 2)}}\n"
     ]
    }
   ],
   "source": [
    "m.options.l1_vars['wind']\n",
    "print(vars(m.options))"
   ]
  },
  {
   "cell_type": "code",
   "execution_count": 2,
   "metadata": {},
   "outputs": [],
   "source": [
    "options = m.Options()"
   ]
  }
 ],
 "metadata": {
  "kernelspec": {
   "display_name": "sp2",
   "language": "python",
   "name": "python3"
  },
  "language_info": {
   "codemirror_mode": {
    "name": "ipython",
    "version": 3
   },
   "file_extension": ".py",
   "mimetype": "text/x-python",
   "name": "python",
   "nbconvert_exporter": "python",
   "pygments_lexer": "ipython3",
   "version": "3.12.8"
  }
 },
 "nbformat": 4,
 "nbformat_minor": 2
}
