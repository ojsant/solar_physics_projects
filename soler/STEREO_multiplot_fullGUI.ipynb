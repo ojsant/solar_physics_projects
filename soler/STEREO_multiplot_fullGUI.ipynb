{
 "cells": [
  {
   "cell_type": "markdown",
   "id": "6780fca7",
   "metadata": {},
   "source": [
    "---\n",
    "# STEREO <a class=\"anchor\" id=\"stereo-loader\"></a>\n",
    "\n",
    "- GitHub: https://github.com/serpentine-h2020/SEPpy"
   ]
  },
  {
   "cell_type": "markdown",
   "id": "043fa790",
   "metadata": {},
   "source": [
    "#### Importing"
   ]
  },
  {
   "cell_type": "code",
   "execution_count": null,
   "id": "0ea83970",
   "metadata": {},
   "outputs": [],
   "source": [
    "import tools.stereo_tools_alt_with_gui as stereo_tools\n",
    "import datetime as dt\n",
    "import os"
   ]
  },
  {
   "cell_type": "code",
   "execution_count": null,
   "id": "a4bd415d",
   "metadata": {},
   "outputs": [],
   "source": [
    "# Local data directory (sunpy data directory by default)\n",
    "\n",
    "# stereo_tools.options.path = r\"C:\\Users\\osant\\Desktop\\solar_physics_projects\\soler\\data\""
   ]
  },
  {
   "cell_type": "code",
   "execution_count": null,
   "id": "29935314",
   "metadata": {},
   "outputs": [],
   "source": [
    "# Plotting parameters for testing\n",
    "stereo_tools.options.set_test_values()"
   ]
  },
  {
   "cell_type": "code",
   "execution_count": null,
   "id": "5a005db4",
   "metadata": {},
   "outputs": [],
   "source": [
    "# Display options widgets\n",
    "stereo_tools.options.disp()"
   ]
  },
  {
   "cell_type": "code",
   "execution_count": null,
   "id": "a9f86f27",
   "metadata": {},
   "outputs": [],
   "source": [
    "print(stereo_tools.options.n_het_p.value)\n",
    "print(stereo_tools.options.n_sept_p.value)\n",
    "print(stereo_tools.options.n_sept_e.value)"
   ]
  },
  {
   "cell_type": "markdown",
   "id": "df9387fc",
   "metadata": {},
   "source": [
    "#### Load data"
   ]
  },
  {
   "cell_type": "code",
   "execution_count": null,
   "id": "cf6b1658",
   "metadata": {},
   "outputs": [],
   "source": [
    "stereo_tools.load_data()"
   ]
  },
  {
   "cell_type": "markdown",
   "id": "9095df38",
   "metadata": {},
   "source": [
    "#### Plot data"
   ]
  },
  {
   "cell_type": "code",
   "execution_count": null,
   "id": "d2d9d11d",
   "metadata": {},
   "outputs": [],
   "source": [
    "# Plotting range selection\n",
    "stereo_tools.date_selector()"
   ]
  },
  {
   "cell_type": "code",
   "execution_count": null,
   "id": "ff7d9786",
   "metadata": {},
   "outputs": [],
   "source": [
    "# Figure and axes returned for further tinkering\n",
    "fig, axs = stereo_tools.make_plot()"
   ]
  },
  {
   "cell_type": "code",
   "execution_count": null,
   "id": "07359494",
   "metadata": {},
   "outputs": [],
   "source": [
    "for ax in axs:\n",
    "    ax.axvline(dt.datetime(2024, 1, 2, 18, 50), lw=2.5, ls=':', color='black')\n",
    "\n",
    "fig"
   ]
  },
  {
   "cell_type": "code",
   "execution_count": null,
   "id": "791df776",
   "metadata": {},
   "outputs": [],
   "source": [
    "fig.savefig(\"example.png\")"
   ]
  }
 ],
 "metadata": {
  "kernelspec": {
   "display_name": "sp2",
   "language": "python",
   "name": "python3"
  },
  "language_info": {
   "codemirror_mode": {
    "name": "ipython",
    "version": 3
   },
   "file_extension": ".py",
   "mimetype": "text/x-python",
   "name": "python",
   "nbconvert_exporter": "python",
   "pygments_lexer": "ipython3",
   "version": "3.12.8"
  }
 },
 "nbformat": 4,
 "nbformat_minor": 5
}
