{
 "cells": [
  {
   "cell_type": "markdown",
   "id": "6780fca7",
   "metadata": {},
   "source": [
    "# Parker Solar Probe <a class=\"anchor\" id=\"psp\"></a>"
   ]
  },
  {
   "cell_type": "code",
   "execution_count": 58,
   "id": "6df10e90",
   "metadata": {},
   "outputs": [],
   "source": [
    "# to do:\n",
    "# polarity_rtn, polarity_panel, polarity_colorwheel"
   ]
  },
  {
   "cell_type": "markdown",
   "id": "043fa790",
   "metadata": {},
   "source": [
    "## Importing and general settings\n",
    "Only needed to run once"
   ]
  },
  {
   "cell_type": "code",
   "execution_count": 59,
   "id": "0ea83970",
   "metadata": {},
   "outputs": [],
   "source": [
    "import astropy.units as u\n",
    "import datetime as dt\n",
    "# import math\n",
    "import numpy as np\n",
    "import os\n",
    "import pandas as pd\n",
    "import re\n",
    "import sunpy\n",
    "import warnings\n",
    "\n",
    "from astropy.constants import e, k_B, m_p\n",
    "from astropy.table import QTable\n",
    "from matplotlib import cm\n",
    "from matplotlib import pyplot as plt\n",
    "# from matplotlib.colors import LogNorm\n",
    "from matplotlib.colors import Normalize\n",
    "import matplotlib.dates as mdates\n",
    "from mpl_toolkits.axes_grid1.inset_locator import inset_axes\n",
    "from seppy.loader.psp import calc_av_en_flux_PSP_EPILO, calc_av_en_flux_PSP_EPIHI, psp_isois_load\n",
    "from seppy.tools import resample_df\n",
    "from stixdcpy.quicklook import LightCurves # https://github.com/i4Ds/stixdcpy\n",
    "from sunpy.coordinates import frames, get_horizons_coord\n",
    "from sunpy.net import attrs as a\n",
    "from sunpy.net import Fido\n",
    "from sunpy.timeseries import TimeSeries\n",
    "\n",
    "# from my_func_py3 import polarity_rtn\n",
    "from polarity_plotting import polarity_rtn, polarity_panel, polarity_colorwheel\n",
    "\n",
    "# disable unused speasy data provider before importing to speed it up\n",
    "os.environ['SPEASY_CORE_DISABLED_PROVIDERS'] = \"sscweb,archive,csa\"\n",
    "import speasy as spz\n",
    "\n",
    "# omit Pandas' PerformanceWarning\n",
    "warnings.simplefilter(action='ignore', category=pd.errors.PerformanceWarning)\n",
    "\n",
    "plt.rcParams['axes.linewidth'] = 1.5\n",
    "plt.rcParams['font.size'] = 12\n",
    "plt.rcParams['xtick.labelsize'] = 15\n",
    "plt.rcParams['ytick.labelsize'] = 15\n",
    "plt.rc('axes', titlesize=20)  # fontsize of the axes title\n",
    "plt.rc('axes', labelsize=20)  # fontsize of the x and y labels\n",
    "plt.rcParams['agg.path.chunksize'] = 20000"
   ]
  },
  {
   "cell_type": "markdown",
   "id": "5fe73e7b",
   "metadata": {},
   "source": [
    "## Define general options"
   ]
  },
  {
   "cell_type": "code",
   "execution_count": 60,
   "id": "2ceec5cb",
   "metadata": {},
   "outputs": [],
   "source": [
    "#Timestamp position\n",
    "pos_timestamp = None\n",
    "\n",
    "#Path to save data\n",
    "#file_path = 'C:\\Users\\osant\\Desktop\\solar_physics_projects\\data'\n",
    "\n",
    "year = 2023\n",
    "startdate = dt.datetime(year, 3, 12, 12, 00)\n",
    "enddate = dt.datetime(year, 3, 15, 12, 00)\n",
    "# startdate = dt.datetime(year, 10, 3, 0, 00)\n",
    "# enddate = dt.datetime(year, 10, 6)\n",
    "\n",
    "plot_stix = True\n",
    "plot_epilo_e = True\n",
    "plot_epihi_e = False\n",
    "plot_epilo_p = False\n",
    "plot_epihi_p = True\n",
    "# plot_psp_pixel = True\n",
    "plot_epihi_p_combined_pixels = True\n",
    "\n",
    "plot_fields = True\n",
    "\n",
    "plot_pad = False\n",
    "plot_mag_angles = True \n",
    "plot_mag = True\n",
    "plot_Vsw = True\n",
    "plot_N = True\n",
    "plot_T = False\n",
    "plot_p_dyn = False\n",
    "plot_polarity = True \n",
    "\n",
    "\n",
    "legends_inside = False\n",
    "\n",
    "resample = '5min'\n",
    "resample_mag = '1min'\n",
    "\n",
    "psp_het_viewing = 'A'  # 'A' or 'B'?\n",
    "\n",
    "epilo_channel = 'F'\n",
    "epilo_viewing = '3'\n",
    "epilo_ic_channel = 'T'\n",
    "epilo_ic_viewing = '3'\n",
    "\n",
    "stix_ltc = False  # correct SolO/STIX data for light travel time"
   ]
  },
  {
   "cell_type": "markdown",
   "id": "7ad96b9f-c303-4674-9935-494496bec138",
   "metadata": {},
   "source": [
    "Don't change the following cell, just run:"
   ]
  },
  {
   "cell_type": "code",
   "execution_count": 61,
   "id": "ce59fc93-e1df-4489-8b87-887ef92fc941",
   "metadata": {},
   "outputs": [],
   "source": [
    "if plot_epilo_e or plot_epihi_e:\n",
    "    plot_electrons = True\n",
    "else:\n",
    "    plot_electrons = False\n",
    "\n",
    "if plot_epilo_p or plot_epihi_p:\n",
    "    plot_protons = True\n",
    "else:\n",
    "    plot_protons = False\n",
    "\n",
    "panels = 1*plot_stix + 1*plot_electrons + 1*plot_protons + 1*plot_pad + 2*plot_mag_angles + 1*plot_mag + 1*plot_Vsw + 1*plot_N + 1*plot_T + 1*plot_p_dyn\n",
    "\n",
    "panel_ratios = list(np.zeros(panels)+1)\n",
    "if plot_electrons and plot_protons:\n",
    "    panel_ratios[0+1*plot_stix] = 2\n",
    "    panel_ratios[1+1*plot_stix] = 2\n",
    "if plot_electrons or plot_protons:    \n",
    "    panel_ratios[0+1*plot_stix] = 2"
   ]
  },
  {
   "cell_type": "markdown",
   "id": "9ded4e14-9eea-46ac-b548-1e76a56da913",
   "metadata": {},
   "source": [
    "## Data loading"
   ]
  },
  {
   "cell_type": "markdown",
   "id": "4d4f8180-f51c-4eda-a4e9-d81dad2ba75b",
   "metadata": {},
   "source": [
    "### Load SolO/STIX data"
   ]
  },
  {
   "cell_type": "code",
   "execution_count": 62,
   "id": "925345a9-8a3c-4fe9-83e5-8d009920e546",
   "metadata": {},
   "outputs": [],
   "source": [
    "if plot_stix:\n",
    "    if enddate-startdate > dt.timedelta(days=7):\n",
    "        print('WARNING: STIX loading for more than 7 days not supported at the moment!')\n",
    "        print('')\n",
    "    lc = LightCurves.from_sdc(start_utc=startdate, end_utc=enddate, ltc=stix_ltc)\n",
    "    df_stix_orig = lc.to_pandas()"
   ]
  },
  {
   "cell_type": "markdown",
   "id": "35f8df6d-1b3d-4910-a25d-8df69b233ae3",
   "metadata": {},
   "source": [
    "### Load PSP data"
   ]
  },
  {
   "cell_type": "code",
   "execution_count": 63,
   "id": "1a15cfe9-762b-4df6-9cff-6148f6323337",
   "metadata": {},
   "outputs": [],
   "source": [
    "# NOT IN USE HERE: Manual loading of private data\n",
    "\n",
    "# psp_man_path = 'psp_private_data/'\n",
    "\n",
    "# df_psp_pixel_org = pd.DataFrame()\n",
    "# for key in ['L2Ap', 'L3Ap', 'L4Ap', 'H2Ap', 'H3Ap', 'H4Ap']:\n",
    "#     tdf = pd.read_csv(psp_man_path+f'{key}_flux60_full.csv', skiprows=25, date_format='%Y-%jT%H:%M:%S.%f', index_col=0, names=[f'{key}_Flux'])\n",
    "#     df_psp_pixel_org = pd.concat([df_psp_pixel_org, tdf], axis=1)\n",
    "\n",
    "# energies_psp_pixel = {}\n",
    "# energies_psp_pixel['L2Ap'] = '5.22 - 12.20 MeV'\n",
    "# energies_psp_pixel['L3Ap'] = '11.49 - 20.76 MeV'\n",
    "# energies_psp_pixel['H2Ap'] = '12.95 - 18.08 MeV'\n",
    "# energies_psp_pixel['L4Ap'] = '17.63 - 26.35 MeV'\n",
    "# energies_psp_pixel['H3Ap'] = '23.65 - 27.53 MeV'\n",
    "# energies_psp_pixel['H4Ap'] = '31.04 - 36.19 MeV'"
   ]
  },
  {
   "cell_type": "markdown",
   "id": "8a2db0f2-3906-49bd-836c-d64c5bf70a21",
   "metadata": {},
   "source": [
    "In the following, loading of public level-2 data"
   ]
  },
  {
   "cell_type": "code",
   "execution_count": 64,
   "id": "4d24f9fe-ca6a-43ff-a1eb-3f912f938c32",
   "metadata": {},
   "outputs": [
    {
     "name": "stderr",
     "output_type": "stream",
     "text": [
      "WARNING: SunpyUserWarning: The variable \"HET_A_R17_SECT_HCI\" has been skipped because it has more than 2 dimensions, which is unsupported. [sunpy.io._cdf]\n",
      "2025-02-18 11:12:06 - sunpy - WARNING: SunpyUserWarning: The variable \"HET_A_R17_SECT_HCI\" has been skipped because it has more than 2 dimensions, which is unsupported.\n",
      "WARNING: SunpyUserWarning: The variable \"HET_A_R17_SECT_RTN\" has been skipped because it has more than 2 dimensions, which is unsupported. [sunpy.io._cdf]\n",
      "2025-02-18 11:12:06 - sunpy - WARNING: SunpyUserWarning: The variable \"HET_A_R17_SECT_RTN\" has been skipped because it has more than 2 dimensions, which is unsupported.\n",
      "WARNING: SunpyUserWarning: The variable \"HET_B_R17_SECT_HCI\" has been skipped because it has more than 2 dimensions, which is unsupported. [sunpy.io._cdf]\n",
      "2025-02-18 11:12:06 - sunpy - WARNING: SunpyUserWarning: The variable \"HET_B_R17_SECT_HCI\" has been skipped because it has more than 2 dimensions, which is unsupported.\n",
      "WARNING: SunpyUserWarning: The variable \"HET_B_R17_SECT_RTN\" has been skipped because it has more than 2 dimensions, which is unsupported. [sunpy.io._cdf]\n",
      "2025-02-18 11:12:06 - sunpy - WARNING: SunpyUserWarning: The variable \"HET_B_R17_SECT_RTN\" has been skipped because it has more than 2 dimensions, which is unsupported.\n",
      "WARNING: SunpyUserWarning: The variable \"HET_A_R17_SECT_HCI\" has been skipped because it has more than 2 dimensions, which is unsupported. [sunpy.io._cdf]\n",
      "2025-02-18 11:12:07 - sunpy - WARNING: SunpyUserWarning: The variable \"HET_A_R17_SECT_HCI\" has been skipped because it has more than 2 dimensions, which is unsupported.\n",
      "WARNING: SunpyUserWarning: The variable \"HET_A_R17_SECT_RTN\" has been skipped because it has more than 2 dimensions, which is unsupported. [sunpy.io._cdf]\n",
      "2025-02-18 11:12:07 - sunpy - WARNING: SunpyUserWarning: The variable \"HET_A_R17_SECT_RTN\" has been skipped because it has more than 2 dimensions, which is unsupported.\n",
      "WARNING: SunpyUserWarning: The variable \"HET_B_R17_SECT_HCI\" has been skipped because it has more than 2 dimensions, which is unsupported. [sunpy.io._cdf]\n",
      "2025-02-18 11:12:07 - sunpy - WARNING: SunpyUserWarning: The variable \"HET_B_R17_SECT_HCI\" has been skipped because it has more than 2 dimensions, which is unsupported.\n",
      "WARNING: SunpyUserWarning: The variable \"HET_B_R17_SECT_RTN\" has been skipped because it has more than 2 dimensions, which is unsupported. [sunpy.io._cdf]\n",
      "2025-02-18 11:12:07 - sunpy - WARNING: SunpyUserWarning: The variable \"HET_B_R17_SECT_RTN\" has been skipped because it has more than 2 dimensions, which is unsupported.\n",
      "WARNING: SunpyUserWarning: The variable \"HET_A_R17_SECT_HCI\" has been skipped because it has more than 2 dimensions, which is unsupported. [sunpy.io._cdf]\n",
      "2025-02-18 11:12:09 - sunpy - WARNING: SunpyUserWarning: The variable \"HET_A_R17_SECT_HCI\" has been skipped because it has more than 2 dimensions, which is unsupported.\n",
      "WARNING: SunpyUserWarning: The variable \"HET_A_R17_SECT_RTN\" has been skipped because it has more than 2 dimensions, which is unsupported. [sunpy.io._cdf]\n",
      "2025-02-18 11:12:09 - sunpy - WARNING: SunpyUserWarning: The variable \"HET_A_R17_SECT_RTN\" has been skipped because it has more than 2 dimensions, which is unsupported.\n",
      "WARNING: SunpyUserWarning: The variable \"HET_B_R17_SECT_HCI\" has been skipped because it has more than 2 dimensions, which is unsupported. [sunpy.io._cdf]\n",
      "2025-02-18 11:12:09 - sunpy - WARNING: SunpyUserWarning: The variable \"HET_B_R17_SECT_HCI\" has been skipped because it has more than 2 dimensions, which is unsupported.\n",
      "WARNING: SunpyUserWarning: The variable \"HET_B_R17_SECT_RTN\" has been skipped because it has more than 2 dimensions, which is unsupported. [sunpy.io._cdf]\n",
      "2025-02-18 11:12:09 - sunpy - WARNING: SunpyUserWarning: The variable \"HET_B_R17_SECT_RTN\" has been skipped because it has more than 2 dimensions, which is unsupported.\n",
      "WARNING: SunpyUserWarning: The variable \"HET_A_R17_SECT_HCI\" has been skipped because it has more than 2 dimensions, which is unsupported. [sunpy.io._cdf]\n",
      "2025-02-18 11:12:11 - sunpy - WARNING: SunpyUserWarning: The variable \"HET_A_R17_SECT_HCI\" has been skipped because it has more than 2 dimensions, which is unsupported.\n",
      "WARNING: SunpyUserWarning: The variable \"HET_A_R17_SECT_RTN\" has been skipped because it has more than 2 dimensions, which is unsupported. [sunpy.io._cdf]\n",
      "2025-02-18 11:12:11 - sunpy - WARNING: SunpyUserWarning: The variable \"HET_A_R17_SECT_RTN\" has been skipped because it has more than 2 dimensions, which is unsupported.\n",
      "WARNING: SunpyUserWarning: The variable \"HET_B_R17_SECT_HCI\" has been skipped because it has more than 2 dimensions, which is unsupported. [sunpy.io._cdf]\n",
      "2025-02-18 11:12:11 - sunpy - WARNING: SunpyUserWarning: The variable \"HET_B_R17_SECT_HCI\" has been skipped because it has more than 2 dimensions, which is unsupported.\n",
      "WARNING: SunpyUserWarning: The variable \"HET_B_R17_SECT_RTN\" has been skipped because it has more than 2 dimensions, which is unsupported. [sunpy.io._cdf]\n",
      "2025-02-18 11:12:11 - sunpy - WARNING: SunpyUserWarning: The variable \"HET_B_R17_SECT_RTN\" has been skipped because it has more than 2 dimensions, which is unsupported.\n"
     ]
    }
   ],
   "source": [
    "df_psp_het_org, psp_het_energies = psp_isois_load('PSP_ISOIS-EPIHI_L2-HET-RATES60', startdate, enddate, path=None, resample=None)"
   ]
  },
  {
   "cell_type": "code",
   "execution_count": 65,
   "id": "c42ac638-50eb-40d9-a8f0-dcc85c668220",
   "metadata": {},
   "outputs": [],
   "source": [
    "df_psp_epilo_org, psp_epilo_energies_org = psp_isois_load('PSP_ISOIS-EPILO_L2-PE', startdate, enddate, path=None, resample=None, epilo_channel=epilo_channel, epilo_threshold=None)"
   ]
  },
  {
   "cell_type": "code",
   "execution_count": 66,
   "id": "371a4dc0-3fb9-43fb-8c98-5dad177ab6f7",
   "metadata": {},
   "outputs": [],
   "source": [
    "df_psp_epilo_ic_org, psp_epilo_ic_energies_org = psp_isois_load('PSP_ISOIS-EPILO_L2-IC', startdate, enddate, path=None, resample=None, epilo_channel=epilo_ic_channel, epilo_threshold=None)"
   ]
  },
  {
   "cell_type": "code",
   "execution_count": 67,
   "id": "1a3d1ba9-9140-48a7-a6e4-e72a2305700b",
   "metadata": {
    "scrolled": true
   },
   "outputs": [],
   "source": [
    "# for i in range(47):\n",
    "#     print(f'H_Chan{epilo_ic_channel}_Energy_E{i}_P{epilo_ic_viewing}', psp_epilo_ic_energies_org[f'H_Chan{epilo_ic_channel}_Energy'][f'H_Chan{epilo_ic_channel}_Energy_E{i}_P{epilo_ic_viewing}'])"
   ]
  },
  {
   "cell_type": "code",
   "execution_count": 68,
   "id": "8cc5aa3e-fb11-4b4a-918b-5a542df14dc6",
   "metadata": {
    "editable": true,
    "slideshow": {
     "slide_type": ""
    },
    "tags": []
   },
   "outputs": [
    {
     "name": "stderr",
     "output_type": "stream",
     "text": [
      "c:\\Users\\osant\\miniforge3\\envs\\sp2\\Lib\\site-packages\\speasy\\core\\data_containers.py:17: UserWarning: no explicit representation of timezones available for np.datetime64\n",
      "  return np.searchsorted(time, np.datetime64(key, 'ns'), side='left')\n",
      "c:\\Users\\osant\\miniforge3\\envs\\sp2\\Lib\\site-packages\\speasy\\core\\data_containers.py:17: UserWarning: no explicit representation of timezones available for np.datetime64\n",
      "  return np.searchsorted(time, np.datetime64(key, 'ns'), side='left')\n",
      "c:\\Users\\osant\\miniforge3\\envs\\sp2\\Lib\\site-packages\\speasy\\core\\data_containers.py:17: UserWarning: no explicit representation of timezones available for np.datetime64\n",
      "  return np.searchsorted(time, np.datetime64(key, 'ns'), side='left')\n"
     ]
    }
   ],
   "source": [
    "# SPC\n",
    "df_psp_spc_np_tot = spz.get_data(spz.inventories.data_tree.amda.Parameters.PSP.SWEAP_SPC.psp_spc_fit.psp_spc_np_tot, \n",
    "                            startdate, enddate, output_format=\"CDF_ISTP\").replace_fillval_by_nan().to_dataframe()\n",
    "df_psp_spc_vp_tot_nrm = spz.get_data(spz.inventories.data_tree.amda.Parameters.PSP.SWEAP_SPC.psp_spc_fit.psp_spc_vp_tot_nrm, \n",
    "                            startdate, enddate, output_format=\"CDF_ISTP\").replace_fillval_by_nan().to_dataframe()\n",
    "df_psp_spc_vp_tot_rtn = spz.get_data(spz.inventories.data_tree.amda.Parameters.PSP.SWEAP_SPC.psp_spc_fit.psp_spc_vp_tot, \n",
    "                            startdate, enddate, output_format=\"CDF_ISTP\").replace_fillval_by_nan().to_dataframe()\n",
    "df_psp_spc_wp_tot = spz.get_data(spz.inventories.data_tree.amda.Parameters.PSP.SWEAP_SPC.psp_spc_fit.psp_spc_wp_tot, \n",
    "                            startdate, enddate, output_format=\"CDF_ISTP\").replace_fillval_by_nan().to_dataframe()\n",
    "df_psp_spc_GF = spz.get_data(spz.inventories.data_tree.amda.Parameters.PSP.SWEAP_SPC.psp_spc_flag.psp_spc_gf, \n",
    "                            startdate, enddate, output_format=\"CDF_ISTP\").replace_fillval_by_nan().to_dataframe()\n",
    "df_psp_spc = pd.concat([df_psp_spc_np_tot, df_psp_spc_vp_tot_nrm, df_psp_spc_vp_tot_rtn, df_psp_spc_wp_tot, df_psp_spc_GF], axis=1)\n",
    "\n",
    "# SPAN-i\n",
    "df_psp_spani_np = spz.get_data(spz.inventories.data_tree.cda.ParkerSolarProbe.PSPSWEAPSPAN.PSP_SWP_SPI_SF00_L3_MOM.DENS, \n",
    "                            startdate, enddate).replace_fillval_by_nan().to_dataframe()\n",
    "df_psp_spani_vp_rtn_sun = spz.get_data(spz.inventories.data_tree.cda.ParkerSolarProbe.PSPSWEAPSPAN.PSP_SWP_SPI_SF00_L3_MOM.VEL_RTN_SUN, \n",
    "                            startdate, enddate).replace_fillval_by_nan().to_dataframe()\n",
    "df_psp_spani_T = spz.get_data(spz.inventories.data_tree.cda.ParkerSolarProbe.PSPSWEAPSPAN.PSP_SWP_SPI_SF00_L3_MOM.TEMP, \n",
    "                            startdate, enddate).replace_fillval_by_nan().to_dataframe()\n",
    "df_psp_spani_QF = spz.get_data(spz.inventories.data_tree.cda.ParkerSolarProbe.PSPSWEAPSPAN.PSP_SWP_SPI_SF00_L3_MOM.QUALITY_FLAG, \n",
    "                            startdate, enddate).replace_fillval_by_nan().to_dataframe()\n",
    "df_psp_spani = pd.concat([df_psp_spani_np, df_psp_spani_vp_rtn_sun, df_psp_spani_T, df_psp_spani_QF], axis=1)\n",
    "\n",
    "# MAG\n",
    "df_psp_mag_rtn = spz.get_data(spz.inventories.data_tree.amda.Parameters.PSP.FIELDS_MAG.psp_mag_1min.psp_b_1min, \n",
    "                            startdate, enddate, output_format=\"CDF_ISTP\").replace_fillval_by_nan().to_dataframe()\n",
    "df_psp_mag_phi = spz.get_data(spz.inventories.data_tree.amda.Parameters.PSP.FIELDS_MAG.psp_mag_1min.psp_b_1min_phi, \n",
    "                           startdate, enddate, output_format=\"CDF_ISTP\").replace_fillval_by_nan().to_dataframe()\n",
    "df_psp_mag_theta = spz.get_data(spz.inventories.data_tree.amda.Parameters.PSP.FIELDS_MAG.psp_mag_1min.psp_b_1min_theta, \n",
    "                            startdate, enddate, output_format=\"CDF_ISTP\").replace_fillval_by_nan().to_dataframe()\n",
    "df_psp_mag_tot = spz.get_data(spz.inventories.data_tree.amda.Parameters.PSP.FIELDS_MAG.psp_mag_1min.psp_b_1min_tot, \n",
    "                            startdate, enddate, output_format=\"CDF_ISTP\").replace_fillval_by_nan().to_dataframe()\n",
    "df_psp_mag = pd.concat([df_psp_mag_rtn, df_psp_mag_phi, df_psp_mag_theta, df_psp_mag_tot], axis=1)\n",
    "df_psp_mag['phi_mod'] = ((df_psp_mag['phi'].values - 180) % 360) - 180 "
   ]
  },
  {
   "cell_type": "code",
   "execution_count": 69,
   "id": "c7f887e4-010c-4a94-a94a-e85fa9906761",
   "metadata": {},
   "outputs": [],
   "source": [
    "def mag_angles(B,Br,Bt,Bn):\n",
    "    theta = np.arccos(Bn/B)\n",
    "    alpha = 90-(180/np.pi*theta)\n",
    "\n",
    "    r = np.sqrt(Br**2 + Bt**2 + Bn**2)\n",
    "    phi = np.arccos(Br/np.sqrt(Br**2 + Bt**2))*180/np.pi\n",
    "\n",
    "    sel = np.where(Bt < 0)\n",
    "    count = len(sel[0])\n",
    "    if count > 0:\n",
    "        phi[sel] = 2*np.pi - phi[sel]\n",
    "    sel = np.where(r <= 0)\n",
    "    count = len(sel[0])\n",
    "    if count > 0:\n",
    "        phi[sel] = 0\n",
    "\n",
    "    return alpha, phi\n",
    "\n",
    "if plot_mag_angles:\n",
    "    theta, phi = mag_angles(df_psp_mag['|b|'].values, df_psp_mag['br'].values, df_psp_mag['bt'].values, df_psp_mag['bn'].values)\n",
    "    df_psp_mag['theta2'] = theta\n",
    "    df_psp_mag['phi2'] = phi"
   ]
  },
  {
   "cell_type": "markdown",
   "id": "a492f517-a543-4128-aad2-68393c43fbf5",
   "metadata": {},
   "source": [
    "#### Convert to Astropy QTable\n",
    "Read units into dictionary"
   ]
  },
  {
   "cell_type": "code",
   "execution_count": null,
   "id": "23e69e9b-6e87-4258-b9da-1771b16da77d",
   "metadata": {},
   "outputs": [],
   "source": [
    "df_psp_spc_units = {}\n",
    "df_psp_spc_units['np_tot'] = u.Unit(spz.inventories.data_tree.amda.Parameters.PSP.SWEAP_SPC.psp_spc_fit.psp_spc_np_tot.units)\n",
    "df_psp_spc_units['|vp_tot|'] = u.Unit(spz.inventories.data_tree.amda.Parameters.PSP.SWEAP_SPC.psp_spc_fit.psp_spc_vp_tot_nrm.units)\n",
    "for k in ['vp_totr', 'vp_tott', 'vp_totn']:\n",
    "    df_psp_spc_units[k] = u.Unit(spz.inventories.data_tree.amda.Parameters.PSP.SWEAP_SPC.psp_spc_fit.psp_spc_vp_tot.units)\n",
    "df_psp_spc_units['wp_tot'] = u.Unit(spz.inventories.data_tree.amda.Parameters.PSP.SWEAP_SPC.psp_spc_fit.psp_spc_wp_tot.units)\n",
    "\n",
    "df_psp_spani_units = {}\n",
    "df_psp_spani_units['Density'] = u.Unit(spz.inventories.data_tree.cda.ParkerSolarProbe.PSPSWEAPSPAN.PSP_SWP_SPI_SF00_L3_MOM.DENS.UNITS)\n",
    "for k in ['Vx RTN', 'Vy RTN', 'Vz RTN']:\n",
    "    df_psp_spani_units[k] = u.Unit(spz.inventories.data_tree.cda.ParkerSolarProbe.PSPSWEAPSPAN.PSP_SWP_SPI_SF00_L3_MOM.VEL_RTN_SUN.UNITS)\n",
    "df_psp_spani_units['Temperature'] = u.Unit(spz.inventories.data_tree.cda.ParkerSolarProbe.PSPSWEAPSPAN.PSP_SWP_SPI_SF00_L3_MOM.TEMP.UNITS)"
   ]
  },
  {
   "cell_type": "code",
   "execution_count": null,
   "id": "edaaa75e-58f6-4fee-94fa-29eeb688bd58",
   "metadata": {},
   "outputs": [],
   "source": [
    "qt_psp_spc = QTable.from_pandas(df_psp_spc, index=True, units=df_psp_spc_units)\n",
    "# qt_psp_spc = QTable(qt_psp_spc, masked=True)"
   ]
  },
  {
   "cell_type": "code",
   "execution_count": null,
   "id": "c823986d-7aca-4c16-86ca-87ce305b5fc0",
   "metadata": {},
   "outputs": [],
   "source": [
    "qt_psp_spani = QTable.from_pandas(df_psp_spani, index=True, units=df_psp_spani_units)"
   ]
  },
  {
   "cell_type": "code",
   "execution_count": null,
   "id": "5faa4487-8f6a-490f-9cbe-b9e88cbebc5f",
   "metadata": {},
   "outputs": [],
   "source": [
    "qt_psp_spc['T'] = (1/2*m_p/k_B*(qt_psp_spc['wp_tot'])**2).si\n",
    "qt_psp_spc['p_dyn'] = (m_p*qt_psp_spc['np_tot']*(qt_psp_spc['|vp_tot|'])**2).to(u.nPa)"
   ]
  },
  {
   "cell_type": "code",
   "execution_count": null,
   "id": "d6b8e13e-b38d-45d1-b8eb-7bd8761ba0df",
   "metadata": {},
   "outputs": [],
   "source": [
    "qt_psp_spani['V_tot_rtn'] = np.sqrt(qt_psp_spani['Vx RTN']**2+qt_psp_spani['Vy RTN']**2+qt_psp_spani['Vz RTN']**2)\n",
    "qt_psp_spani['T_K'] = (qt_psp_spani['Temperature']/k_B).si\n",
    "qt_psp_spani['p_dyn'] = (m_p*qt_psp_spani['Density']*(qt_psp_spani['V_tot_rtn'])**2).to(u.nPa)"
   ]
  },
  {
   "cell_type": "code",
   "execution_count": null,
   "id": "e37ea1db-81d6-41c4-89b8-7bfb1dad5e14",
   "metadata": {},
   "outputs": [],
   "source": [
    "qt_psp_spc"
   ]
  },
  {
   "cell_type": "code",
   "execution_count": null,
   "id": "58712552-4ceb-4f57-bb21-5ec3d59525ce",
   "metadata": {},
   "outputs": [],
   "source": [
    "qt_psp_spani"
   ]
  },
  {
   "cell_type": "code",
   "execution_count": null,
   "id": "3f915507-86a0-4842-a41d-df9a2ad56a62",
   "metadata": {},
   "outputs": [],
   "source": [
    "df_psp_spc = qt_psp_spc.to_pandas(index='index')\n",
    "df_psp_spc.index.name = None"
   ]
  },
  {
   "cell_type": "code",
   "execution_count": null,
   "id": "7678bcbe-0cdb-49cf-8319-a6947cd51ca4",
   "metadata": {},
   "outputs": [],
   "source": [
    "df_psp_spani = qt_psp_spani.to_pandas(index='index')\n",
    "df_psp_spani.index.name = None"
   ]
  },
  {
   "cell_type": "markdown",
   "id": "a1944c5f-b247-461f-ab50-f6294134f611",
   "metadata": {},
   "source": [
    "Some SPAN-i temperature values are negative. Check this and clean the data afterwards"
   ]
  },
  {
   "cell_type": "code",
   "execution_count": null,
   "id": "3066b965-7bcd-408e-83ef-ea62155dcf88",
   "metadata": {},
   "outputs": [],
   "source": [
    "try:\n",
    "    print(np.nanmin(df_psp_spani['Temperature']))\n",
    "    print(np.nanmin(df_psp_spani['T_K']))\n",
    "    df_psp_spani['T_K'].plot()\n",
    "    df_psp_spani['Temperature'].plot()\n",
    "    plt.ylim(-18.002, 0.0)\n",
    "    plt.show()\n",
    "except:\n",
    "    print('not possible. no data?')"
   ]
  },
  {
   "cell_type": "markdown",
   "id": "dac46e80-4a8f-4441-b584-7f8c09e4033f",
   "metadata": {},
   "source": [
    "#### clean data"
   ]
  },
  {
   "cell_type": "code",
   "execution_count": null,
   "id": "e0de8105-a7e5-423a-aa6b-60f07f4f13e2",
   "metadata": {},
   "outputs": [],
   "source": [
    "if plot_epilo_e:\n",
    "    electron_countrate_keys = df_psp_epilo_org.filter(like='Electron_CountRate_ChanF_E').keys()\n",
    "    df_psp_epilo_org[electron_countrate_keys] = df_psp_epilo_org[electron_countrate_keys].mask(df_psp_epilo_org[electron_countrate_keys] < 0.0)"
   ]
  },
  {
   "cell_type": "code",
   "execution_count": null,
   "id": "e420e77b-1bfe-453f-ab4d-2fd9b64d1076",
   "metadata": {},
   "outputs": [],
   "source": [
    "df_psp_spc = df_psp_spc.mask(df_psp_spc['general_flag']!=0.0)"
   ]
  },
  {
   "cell_type": "code",
   "execution_count": null,
   "id": "70c9239c-1f50-450d-b412-998dc35ed538",
   "metadata": {},
   "outputs": [],
   "source": [
    "df_psp_spani['Temperature'].mask(df_psp_spani['Temperature']<0.0, inplace=True)\n",
    "df_psp_spani['T_K'].mask(df_psp_spani['T_K']<0.0, inplace=True)"
   ]
  },
  {
   "cell_type": "code",
   "execution_count": null,
   "id": "de13766e-a74e-491d-99fd-bb795e5017a1",
   "metadata": {},
   "outputs": [],
   "source": [
    "# gf_mask = qt_psp_spc['general_flag']!=0.0\n",
    "# for key in qt_psp_spc.columns.keys():\n",
    "#     if key != 'index':\n",
    "#         qt_psp_spc[key].mask = gf_mask"
   ]
  },
  {
   "cell_type": "code",
   "execution_count": null,
   "id": "a181ffb4-22a6-45dc-b2fb-f3923c7e0602",
   "metadata": {},
   "outputs": [],
   "source": [
    "# SPAN-I\n",
    "# df_psp_spani_vp_rtn_sun['V_tot_rtn'] = np.sqrt(df_psp_spani_vp_rtn_sun['Vx RTN']**2+df_psp_spani_vp_rtn_sun['Vy RTN']**2+df_psp_spani_vp_rtn_sun['Vz RTN']**2)\n",
    "\n",
    "# df_psp_spani_T['T_K'] = df_psp_spani_T['Temperature']/k_B.value*e.value\n",
    "# df_psp_spani_T['T_1000K'] = df_psp_spani_T['Temperature']/k_B.value*e.value/1000\n",
    "\n",
    "# df_psp_spani = pd.concat([df_psp_spani_np, df_psp_spani_vp_rtn_sun, df_psp_spani_T, df_psp_spani_QF], axis=1)"
   ]
  },
  {
   "cell_type": "markdown",
   "id": "fb234447-ddc4-4d8b-bbf5-850002e9cc0a",
   "metadata": {},
   "source": [
    "#### Filter data based on Quality Flags\n",
    "The Quality flags mostly contain a description of the instrument activities and operational status. For those, I would recommend avoiding anything with the following quality bits set to 1:\n",
    "\n",
    "- bit0 - counter overflow\n",
    "- bit3 - spoiler test\n",
    "- bit10 - bad energy table\n",
    "- bit11 - MCP test\n",
    "- bit14 - threshold test\n",
    "- bit15 - commanding\n",
    "\n",
    "(R. Livi, priv. comm.)"
   ]
  },
  {
   "cell_type": "code",
   "execution_count": null,
   "id": "eac3453b-0863-4316-a95b-5b6970b13b73",
   "metadata": {},
   "outputs": [],
   "source": [
    "df_psp_spani['Quality Flag binary'] = df_psp_spani['Quality Flag'].astype(int).map('{:b}'.format).astype(str)\n",
    "df_psp_spani['Quality Flag binary'] = df_psp_spani['Quality Flag binary'].str.zfill(16)\n",
    "\n",
    "qf_bits_list = ['Counter Overflow', 'Survey Snapshot ON (not applicable to archive products)', 'Alternate Energy Table', 'Spoiler Test', 'Attenuator Engaged', 'Highest Archive Rate', 'No Targeted Sweep',\n",
    "                'SPAN-Ion New Mass Table (not applicable to electrons)', 'Over-deflection', 'Archive Snapshot ON', 'Bad Energy Table', 'MCP Test', 'Survey Available', 'Archive Available', \n",
    "                'Threshold Test', 'Commanding']\n",
    "qf_bits_list.reverse()\n",
    "\n",
    "for i in range(len(qf_bits_list)):\n",
    "    df_psp_spani[qf_bits_list[i]] = df_psp_spani['Quality Flag binary'].str[i]\n",
    "    df_psp_spani[qf_bits_list[i]] = df_psp_spani[qf_bits_list[i]].astype(int)\n",
    "\n",
    "cond1 = df_psp_spani['Counter Overflow']==1\n",
    "cond2 = df_psp_spani['Spoiler Test']==1\n",
    "cond3 = df_psp_spani['Bad Energy Table']==1\n",
    "cond4 = df_psp_spani['MCP Test']==1\n",
    "cond5 = df_psp_spani['Threshold Test']==1\n",
    "cond6 = df_psp_spani['Commanding']==1\n",
    "\n",
    "df_psp_spani = df_psp_spani.mask(cond1 | cond2 | cond3 | cond4 | cond5 | cond6)"
   ]
  },
  {
   "cell_type": "markdown",
   "id": "315c86b6-3b3a-4e02-9c79-b0d8abba616d",
   "metadata": {},
   "source": [
    "Drop binary version of Quality Flag because otherwise resampling will crash later:"
   ]
  },
  {
   "cell_type": "code",
   "execution_count": null,
   "id": "5bbd553d-5153-4566-894a-4c098ac82366",
   "metadata": {},
   "outputs": [],
   "source": [
    "df_psp_spani.drop(columns='Quality Flag binary', inplace=True)"
   ]
  },
  {
   "cell_type": "markdown",
   "id": "3f783221-3493-483b-acfe-ee0a3422fd89",
   "metadata": {},
   "source": [
    "## Resampling of loaded data"
   ]
  },
  {
   "cell_type": "code",
   "execution_count": null,
   "id": "6be683d5",
   "metadata": {},
   "outputs": [],
   "source": [
    "if resample is not None:\n",
    "    if plot_epihi_e or plot_epihi_p:\n",
    "        df_psp_het = resample_df(df_psp_het_org, resample)   \n",
    "    if plot_epilo_e:\n",
    "        df_psp_epilo = resample_df(df_psp_epilo_org, resample) \n",
    "    if plot_epilo_p:\n",
    "        df_psp_epilo_ic = resample_df(df_psp_epilo_ic_org, resample) \n",
    "    # if plot_psp_pixel:\n",
    "    #     df_psp_pixel = resample_df(df_psp_pixel_org, resample) \n",
    "    if plot_Vsw or plot_N or plot_T:\n",
    "        df_magplas_spani = resample_df(df_psp_spani, resample_mag) \n",
    "        df_magplas_spc = resample_df(df_psp_spc, resample_mag)\n",
    "    if plot_mag:\n",
    "        df_mag = resample_df(df_psp_mag, resample_mag) \n",
    "    if plot_stix:\n",
    "        df_stix = resample_df(df_stix_orig, resample) \n",
    " \n",
    "else:\n",
    "    if plot_epihi_e or plot_epihi_p:\n",
    "        df_psp_het = df_psp_het_org \n",
    "    if plot_epilo_e:\n",
    "        df_psp_epilo = df_psp_epilo_org\n",
    "    if plot_epilo_p:\n",
    "        df_psp_epilo_ic = df_psp_epilo_ic_org\n",
    "    # if plot_psp_pixel:\n",
    "    #     df_psp_pixel = df_psp_pixel_org\n",
    "    if plot_Vsw or plot_N or plot_T:\n",
    "        df_magplas_spani = df_psp_spani \n",
    "        df_magplas_spc = df_psp_spc\n",
    "    if plot_mag:\n",
    "        df_mag = df_psp_mag\n",
    "    if plot_stix:\n",
    "        df_stix = df_stix_orig "
   ]
  },
  {
   "cell_type": "markdown",
   "id": "21c8131d-4fde-4dd7-b6d2-6e81824c2a5a",
   "metadata": {},
   "source": [
    "## Energy channel selection"
   ]
  },
  {
   "cell_type": "code",
   "execution_count": null,
   "id": "54afc952",
   "metadata": {},
   "outputs": [],
   "source": [
    "#Choose every n:th channel\n",
    "n_psp_het_e = 2\n",
    "n_psp_het_p = 1\n",
    "n_psp_epilo_e = 1\n",
    "n_psp_epilo_ic = 4\n",
    "\n",
    "#Channels list\n",
    "channels_n_psp_het_e = list(np.arange(0, len(df_psp_het.filter(like=f'{psp_het_viewing}_Electrons_Rate_').keys()), n_psp_het_e))\n",
    "channels_n_psp_het_p = list(np.arange(0, len(df_psp_het.filter(like=f'{psp_het_viewing}_H_Flux_').keys()), n_psp_het_p))\n",
    "channels_n_psp_epilo_e = list(np.arange(3, 8, n_psp_epilo_e)) # list(np.arange(0, len(df_psp_epilo.filter(like='Electron_CountRate_ChanF').keys()), n_psp_epilo_e))\n",
    "channels_n_psp_epilo_ic = list(np.arange(0, 31, n_psp_epilo_ic))\n",
    "\n",
    "# channels_n_psp_epilo_e = [ 10, 11]\n",
    "# channels_n_psp_epilo_ic = []\n",
    "# channels_n_psp_het_e = [0, 1, 2]\n",
    "\n",
    "#Chosen channels\n",
    "print('Channels:')\n",
    "print('psp_het_e:', channels_n_psp_het_e, ',', len(channels_n_psp_het_e))\n",
    "print('psp_het_p:', channels_n_psp_het_p, ',', len(channels_n_psp_het_p))\n",
    "print('psp_epilo_e:', channels_n_psp_epilo_e, ',', len(channels_n_psp_epilo_e))\n",
    "print('psp_epilo_ic:', channels_n_psp_epilo_ic, ',', len(channels_n_psp_epilo_ic))"
   ]
  },
  {
   "cell_type": "code",
   "execution_count": null,
   "id": "59ce30e9-a43a-4b17-b8c8-f71cae85560d",
   "metadata": {},
   "outputs": [],
   "source": [
    "print(f'HET {psp_het_viewing}'+psp_het_energies['H_ENERGY_LABL'][0][0])\n",
    "print(df_psp_het[f'{psp_het_viewing}_H_Flux_0'].sum())"
   ]
  },
  {
   "cell_type": "code",
   "execution_count": null,
   "id": "68d4ae79-7a2f-4c75-b24c-b483d16845b5",
   "metadata": {},
   "outputs": [],
   "source": [
    "def make_plot():\n",
    "    # %matplotlib notebook\n",
    "    %matplotlib inline\n",
    "    # %matplotlib ipympl \n",
    "    # %matplotlib widget\n",
    "    \n",
    "    font_ylabel = 20\n",
    "    font_legend = 10\n",
    "    \n",
    "    if panels == 3:\n",
    "        fig, axs = plt.subplots(nrows=panels, sharex=True, figsize=[12, 4*panels])#, gridspec_kw={'height_ratios': panel_ratios})# layout=\"constrained\")\n",
    "    else:\n",
    "        fig, axs = plt.subplots(nrows=panels, sharex=True, figsize=[12, 3*panels], gridspec_kw={'height_ratios': panel_ratios})# layout=\"constrained\")\n",
    "    fig.subplots_adjust(hspace=0.1)\n",
    "    \n",
    "    i = 0\n",
    "    \n",
    "    if plot_stix:\n",
    "        for key in df_stix.keys():\n",
    "            axs[i].plot(df_stix.index, df_stix[key], ds=\"steps-mid\", label=key)\n",
    "        if stix_ltc:\n",
    "            title = 'SolO/STIX (light travel time corrected)'\n",
    "        else:\n",
    "            title = 'SolO/STIX'\n",
    "        if legends_inside:\n",
    "            axs[i].legend(loc='upper right', title=title)\n",
    "        else:\n",
    "            # axs[i].legend(loc='upper right', title=title, bbox_to_anchor=(1, 0.5))\n",
    "            axs[i].legend(bbox_to_anchor=(1.01, 1), loc='upper left', title=title)\n",
    "        axs[i].set_ylabel('Counts', fontsize=font_ylabel)\n",
    "        axs[i].set_yscale('log')\n",
    "        i +=1  \n",
    "    \n",
    "    \n",
    "    color_offset = 4 \n",
    "    \n",
    "    if plot_electrons:\n",
    "        if plot_epilo_e:\n",
    "            axs[i].set_prop_cycle('color', plt.cm.viridis_r(np.linspace(0, 1, len(channels_n_psp_epilo_e)+color_offset)))\n",
    "            for channel in channels_n_psp_epilo_e:\n",
    "                psp_epilo_energy = np.round(psp_epilo_energies_org[f'Electron_Chan{epilo_channel}_Energy'][f'Electron_Chan{epilo_channel}_Energy_E{channel}_P{epilo_viewing}'], 2).astype(str)\n",
    "                axs[i].plot(df_psp_epilo.index, df_psp_epilo[f'Electron_CountRate_Chan{epilo_channel}_E{channel}_P{epilo_viewing}'],\n",
    "                            ds=\"steps-mid\", label=f'EPI-lo PE {epilo_channel}{epilo_viewing} {psp_epilo_energy} keV')\n",
    "    \n",
    "        if plot_epihi_e:\n",
    "            axs[i].set_prop_cycle('color', plt.cm.Reds_r(np.linspace(0, 1, len(channels_n_psp_het_e)+color_offset)))\n",
    "            for channel in channels_n_psp_het_e:\n",
    "                axs[i].plot(df_psp_het.index, df_psp_het[f'{psp_het_viewing}_Electrons_Rate_{channel}'],\n",
    "                            ds=\"steps-mid\", label=f'HET {psp_het_viewing}'+psp_het_energies['Electrons_ENERGY_LABL'][channel][0])\n",
    "                \n",
    "        # axs[i].set_ylabel(\"Flux\\n\"+r\"[(cm$^2$ sr s MeV)$^{-1}]$\", fontsize=font_ylabel)\n",
    "        axs[i].set_ylabel(\"Count rates\", fontsize=font_ylabel)\n",
    "        if legends_inside:\n",
    "            axs[i].legend(loc='upper right', borderaxespad=0., \n",
    "                          title=f'Electrons',\n",
    "                          fontsize=font_legend)\n",
    "        else:\n",
    "            axs[i].legend(bbox_to_anchor=(1.01, 1), loc='upper left', borderaxespad=0., \n",
    "                          title=f'Electrons',\n",
    "                          fontsize=font_legend)\n",
    "       \n",
    "        axs[i].set_yscale('log')\n",
    "        i +=1    \n",
    "    \n",
    "        \n",
    "    color_offset = 2    \n",
    "    if plot_protons:\n",
    "        if plot_epilo_p:\n",
    "            axs[i].set_prop_cycle('color', plt.cm.viridis_r(np.linspace(0, 1, len(channels_n_psp_epilo_ic)+color_offset)))\n",
    "            # [::-1] to reverse list\n",
    "            for channel in channels_n_psp_epilo_ic[::-1]:\n",
    "                # print(f'H_Flux_Chan{epilo_ic_channel}_E{channel}_P{epilo_ic_viewing}')\n",
    "                psp_epilo_ic_energy = np.round(psp_epilo_ic_energies_org[f'H_Chan{epilo_ic_channel}_Energy'][f'H_Chan{epilo_ic_channel}_Energy_E{channel}_P{epilo_ic_viewing}'], 2).astype(str)\n",
    "                axs[i].plot(df_psp_epilo_ic.index, df_psp_epilo_ic[f'H_Flux_Chan{epilo_ic_channel}_E{channel}_P{epilo_ic_viewing}'],\n",
    "                            ds=\"steps-mid\", label=f'EPI-lo IC {epilo_ic_channel}{epilo_ic_viewing} {psp_epilo_ic_energy} keV')\n",
    "    \n",
    "        # if plot_psp_pixel:\n",
    "        #     axs[i].set_prop_cycle('color', plt.cm.tab10(range(6)))\n",
    "        #     for key in ['L2Ap', 'L3Ap', 'L4Ap', 'H2Ap', 'H3Ap', 'H4Ap']:\n",
    "        #     # for key in ['L2Ap', 'L4Ap', 'H2Ap', 'H3Ap', 'H4Ap']:\n",
    "        #         axs[i].plot(df_psp_pixel.index, df_psp_pixel[f'{key}_Flux'], label=f'{key} {energies_psp_pixel[key]}', drawstyle='steps-mid')\n",
    "        \n",
    "        if plot_epihi_p:    \n",
    "            if plot_epihi_p_combined_pixels:\n",
    "                # comb_channels = [[1,2], [3,5], [5,7], [4,5], [7], [9]]\n",
    "                comb_channels = [[3,5], [5,7], [4,5], [7], [9]]\n",
    "                axs[i].set_prop_cycle('color', plt.cm.Greys_r(np.linspace(0, 1, len(comb_channels)+5)))\n",
    "                for channel in comb_channels:\n",
    "                    df_psp_epihi, df_psp_epihi_name = calc_av_en_flux_PSP_EPIHI(df_psp_het, psp_het_energies, channel, 'p', 'het', psp_het_viewing)\n",
    "                    axs[i].plot(df_psp_epihi.index, df_psp_epihi.flux, label=f'HET {psp_het_viewing} {df_psp_epihi_name}', lw=1, ds=\"steps-mid\")\n",
    "            else:\n",
    "                axs[i].set_prop_cycle('color', plt.cm.plasma(np.linspace(0, 1, len(channels_n_psp_het_p)+color_offset)))\n",
    "                for channel in channels_n_psp_het_p:\n",
    "                    axs[i].plot(df_psp_het.index, df_psp_het[f'{psp_het_viewing}_H_Flux_{channel}'], label=f'HET {psp_het_viewing}'+psp_het_energies['H_ENERGY_LABL'][channel][0], ds=\"steps-mid\")\n",
    "        \n",
    "        axs[i].set_ylabel(\"Flux\\n\"+r\"[(cm$^2$ sr s MeV)$^{-1}]$\", fontsize=font_ylabel)\n",
    "        # title = f'Ions (HET {psp_het_viewing})'\n",
    "        title = f'Ions (Pixel)'\n",
    "        if legends_inside:\n",
    "            axs[i].legend(loc='upper right', borderaxespad=0., \n",
    "                          title=title,\n",
    "                          fontsize=font_legend)\n",
    "        else:\n",
    "            axs[i].legend(bbox_to_anchor=(1.01, 1), loc='upper left', borderaxespad=0., \n",
    "                          title=title,\n",
    "                          fontsize=font_legend)\n",
    "        axs[i].set_yscale('log')\n",
    "    \n",
    "        # axs[i].set_ylim([5e-2, None])\n",
    "        \n",
    "        i +=1    \n",
    "        \n",
    "        \n",
    "    # plot magnetic field\n",
    "    if plot_mag:\n",
    "        ax = axs[i]\n",
    "        ax.plot(df_mag.index, df_mag['|b|'], label='B', color='k', linewidth=1)\n",
    "        ax.plot(df_mag.index.values, df_mag['br'].values, label='Br', color='dodgerblue')\n",
    "        ax.plot(df_mag.index.values, df_mag['bt'].values, label='Bt', color='limegreen')\n",
    "        ax.plot(df_mag.index.values, df_mag['bn'].values, label='Bn', color='deeppink')\n",
    "        ax.axhline(y=0, color='gray', linewidth=0.8, linestyle='--')\n",
    "        if legends_inside:\n",
    "            ax.legend(loc='upper right')\n",
    "        else:\n",
    "            # ax.legend(loc='upper right', bbox_to_anchor=(1.01, 0.5))\n",
    "            ax.legend(bbox_to_anchor=(1.01, 1), loc='upper left')\n",
    "            \n",
    "        ax.set_ylabel('B [nT]', fontsize=font_ylabel)\n",
    "        ax.tick_params(axis=\"x\", direction=\"in\", which='both')#, pad=-15)\n",
    "        i += 1\n",
    "        \n",
    "    if plot_polarity:\n",
    "        pos = get_horizons_coord(f'PSP', time={'start':df_mag.index[0]-pd.Timedelta(minutes=15), 'stop':df_mag.index[-1]+pd.Timedelta(minutes=15), 'step':\"1min\"})  # (lon, lat, radius) in (deg, deg, AU)\n",
    "        pos = pos.transform_to(frames.HeliographicStonyhurst())\n",
    "        #Interpolate position data to magnetic field data cadence\n",
    "        r = np.interp([t.timestamp() for t in df_mag.index], [t.timestamp() for t in pd.to_datetime(pos.obstime.value)], pos.radius.value)\n",
    "        lat = np.interp([t.timestamp() for t in df_mag.index], [t.timestamp() for t in pd.to_datetime(pos.obstime.value)], pos.lat.value)\n",
    "        pol, phi_relative = polarity_rtn(df_mag['br'].values, df_mag['bt'].values, df_mag['bn'].values, r, lat, V=400)\n",
    "        # create an inset axe in the current axe:\n",
    "        pol_ax = inset_axes(ax, height=\"5%\", width=\"100%\", loc='upper center', bbox_to_anchor=(0.,0,1,1.1), bbox_transform=ax.transAxes) # center, you can check the different codes in plt.legend?\n",
    "        pol_ax.get_xaxis().set_visible(False)\n",
    "        pol_ax.get_yaxis().set_visible(False)\n",
    "        pol_ax.set_ylim(0,1)\n",
    "        pol_ax.set_xlim([df_mag.index.values[0], df_mag.index.values[-1]])\n",
    "        pol_arr = np.zeros(len(pol))+1\n",
    "        timestamp = df_mag.index.values[2] - df_mag.index.values[1]\n",
    "        norm = Normalize(vmin=0, vmax=180, clip=True)\n",
    "        mapper = cm.ScalarMappable(norm=norm, cmap=cm.bwr)\n",
    "        pol_ax.bar(df_mag.index.values[(phi_relative>=0) & (phi_relative<180)],pol_arr[(phi_relative>=0) & (phi_relative<180)],color=mapper.to_rgba(phi_relative[(phi_relative>=0) & (phi_relative<180)]),width=timestamp)\n",
    "        pol_ax.bar(df_mag.index.values[(phi_relative>=180) & (phi_relative<360)],pol_arr[(phi_relative>=180) & (phi_relative<360)],color=mapper.to_rgba(np.abs(360-phi_relative[(phi_relative>=180) & (phi_relative<360)])),width=timestamp)\n",
    "        pol_ax.set_xlim(startdate, enddate)\n",
    "        \n",
    "    if plot_mag_angles:\n",
    "        ax = axs[i]\n",
    "        #Bmag = np.sqrt(np.nansum((mag_data.B_r.values**2,mag_data.B_t.values**2,mag_data.B_n.values**2), axis=0))    \n",
    "        # alpha, phi = mag_angles(df_mag.BFIELD_3, df_mag.BFIELD_0.values, df_mag.BFIELD_1.values,\n",
    "        #                         df_mag.BFIELD_2.values)\n",
    "        ax.plot(df_mag.index, df_mag['theta'], '.k', label='theta', ms=1)\n",
    "        ax.axhline(y=0, color='gray', linewidth=0.8, linestyle='--')\n",
    "        ax.set_ylim(-90, 90)\n",
    "        ax.set_ylabel(r\"$\\Theta_\\mathrm{B}$ [°]\", fontsize=font_ylabel)\n",
    "        ax.tick_params(axis=\"x\",direction=\"in\", pad=-15)\n",
    "    \n",
    "        i += 1\n",
    "        ax = axs[i]\n",
    "        # ax.plot(df_mag.index, df_mag['phi'], '.k', label='phi', ms=1)\n",
    "        ax.plot(df_mag.index, df_mag['phi_mod'], '.k', label='phi', ms=1)\n",
    "        # ax.plot(df_mag.index, df_mag['phi2'], '.r', label='phi', ms=1)    \n",
    "        ax.axhline(y=0, color='gray', linewidth=0.8, linestyle='--')\n",
    "        ax.set_ylim(-180, 180)\n",
    "        ax.set_ylabel(r\"$\\Phi_\\mathrm{B}$ [°]\", fontsize=font_ylabel)\n",
    "        ax.tick_params(axis=\"x\",direction=\"in\", which='both', pad=-15)\n",
    "        i += 1\n",
    "        \n",
    "    ### Temperature\n",
    "    if plot_T:\n",
    "        axs[i].plot(df_magplas_spani.index, df_magplas_spani['T_K'], '-k', label=\"SPAN-i\")\n",
    "        axs[i].plot(df_magplas_spc.index, df_magplas_spc['T'], '-r', label=\"SPC\")\n",
    "        axs[i].set_ylabel(r\"T$_\\mathrm{p}$ [K]\", fontsize=font_ylabel)\n",
    "        axs[i].set_yscale('log')\n",
    "    \n",
    "        # TODO: manually set lower boundary, remove at some point\n",
    "        axs[i].set_ylim(np.nanmin(df_magplas_spc['T'])-0.1*np.nanmin(df_magplas_spc['T']), None)\n",
    "    \n",
    "        if legends_inside:\n",
    "            axs[i].legend(loc='upper right')\n",
    "        else:\n",
    "            axs[i].legend(bbox_to_anchor=(1.01, 1), loc='upper left')\n",
    "        i += 1\n",
    "    \n",
    "    ### Dynamic pressure\n",
    "    if plot_p_dyn:\n",
    "        axs[i].plot(df_magplas_spani.index, df_magplas_spani['p_dyn'], '-k', label=\"SPAN-i\")\n",
    "        axs[i].plot(df_magplas_spc.index, df_magplas_spc['p_dyn'], '-r', label=\"SPC\")\n",
    "        axs[i].set_ylabel(r\"P$_\\mathrm{dyn}$ [nPa]\", fontsize=font_ylabel)\n",
    "        if legends_inside:\n",
    "            axs[i].legend(loc='upper right')\n",
    "        else:\n",
    "            axs[i].legend(bbox_to_anchor=(1.01, 1), loc='upper left')\n",
    "        axs[i].set_yscale('log')\n",
    "        i += 1\n",
    "    \n",
    "    ### Density\n",
    "    if plot_N:\n",
    "        axs[i].plot(df_magplas_spani.index, df_magplas_spani['Density'], '-k', label=\"SPAN-i\")\n",
    "        axs[i].plot(df_magplas_spc.index, df_magplas_spc['np_tot'], '-r', label=\"SPC\")\n",
    "        axs[i].set_ylabel(r\"N$_\\mathrm{p}$ [cm$^{-3}$]\", fontsize=font_ylabel)\n",
    "        if legends_inside:\n",
    "            axs[i].legend(loc='upper right')\n",
    "        else:\n",
    "            axs[i].legend(bbox_to_anchor=(1.01, 1), loc='upper left')\n",
    "        axs[i].set_yscale('log')\n",
    "        i += 1\n",
    "    \n",
    "    ### Vsw\n",
    "    if plot_Vsw:\n",
    "        axs[i].plot(df_magplas_spani.index, df_magplas_spani['V_tot_rtn'], '-k', label=\"SPAN-i\")\n",
    "        axs[i].plot(df_magplas_spc.index, df_magplas_spc['|vp_tot|'], '-r', label=\"SPC\")\n",
    "        axs[i].set_ylabel(r\"V$_\\mathrm{sw}$ [kms$^{-1}$]\", fontsize=font_ylabel)\n",
    "        if legends_inside:\n",
    "            axs[i].legend(loc='upper right')\n",
    "        else:\n",
    "            axs[i].legend(bbox_to_anchor=(1.01, 1), loc='upper left')\n",
    "        # i += 1     \n",
    "            \n",
    "    #axs[-1].set_xlabel(f\"Date in {year}/  Time (UTC)\", fontsize=15)\n",
    "    #axs[-1].set_xlim(startdate, enddate)\n",
    "    axs[0].set_title(f'Parker Solar Probe', ha='center')\n",
    "    axs[-1].xaxis.set_major_formatter(mdates.DateFormatter('%H:%M\\n%m-%d'))\n",
    "    axs[-1].xaxis.set_tick_params(rotation=0)\n",
    "    axs[-1].set_xlabel(f\"Time (UTC) / Date in {year}\")#, fontsize=15)\n",
    "    axs[-1].set_xlim(startdate, enddate)\n",
    "    \n",
    "    #plt.tight_layout()\n",
    "    fig.patch.set_facecolor('white')\n",
    "    fig.set_dpi(200)\n",
    "    return"
   ]
  },
  {
   "cell_type": "code",
   "execution_count": null,
   "id": "f611e9ff-7129-473b-adb2-c7ce58685b15",
   "metadata": {},
   "outputs": [],
   "source": [
    "make_plot()"
   ]
  },
  {
   "cell_type": "code",
   "execution_count": null,
   "id": "c1dc9cf3-4f71-4d12-9801-fec1bbf41680",
   "metadata": {},
   "outputs": [],
   "source": [
    "# fig.savefig('figure.png', dpi=200)"
   ]
  },
  {
   "cell_type": "markdown",
   "id": "f4d8632f-eeb7-4a12-9132-7248b849823f",
   "metadata": {},
   "source": [
    "## EOF"
   ]
  }
 ],
 "metadata": {
  "kernelspec": {
   "display_name": "sp2",
   "language": "python",
   "name": "python3"
  },
  "language_info": {
   "codemirror_mode": {
    "name": "ipython",
    "version": 3
   },
   "file_extension": ".py",
   "mimetype": "text/x-python",
   "name": "python",
   "nbconvert_exporter": "python",
   "pygments_lexer": "ipython3",
   "version": "3.12.8"
  }
 },
 "nbformat": 4,
 "nbformat_minor": 5
}
